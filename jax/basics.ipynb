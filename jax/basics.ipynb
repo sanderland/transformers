{
 "cells": [
  {
   "cell_type": "code",
   "execution_count": 1,
   "id": "1cc0cdd2-b88d-46f4-8560-1c792a755e61",
   "metadata": {},
   "outputs": [],
   "source": [
    "## Standard libraries\n",
    "import os\n",
    "import math\n",
    "import numpy as np\n",
    "import time\n",
    "\n",
    "## Progress bar\n",
    "from tqdm.auto import tqdm\n",
    "\n",
    "import jax\n",
    "import jax.numpy as jnp"
   ]
  },
  {
   "cell_type": "code",
   "execution_count": 2,
   "id": "388158c7-b73a-47ac-9c55-f6923dca36e8",
   "metadata": {},
   "outputs": [
    {
     "name": "stderr",
     "output_type": "stream",
     "text": [
      "WARNING:absl:No GPU/TPU found, falling back to CPU. (Set TF_CPP_MIN_LOG_LEVEL=0 and rerun for more info.)\n"
     ]
    }
   ],
   "source": [
    "a = jnp.zeros((2, 5), dtype=jnp.float32)\n"
   ]
  },
  {
   "cell_type": "code",
   "execution_count": 3,
   "id": "1a91cfad-554a-4bc2-9d8d-e069961b5d46",
   "metadata": {},
   "outputs": [
    {
     "data": {
      "text/plain": [
       "[CpuDevice(id=0)]"
      ]
     },
     "execution_count": 3,
     "metadata": {},
     "output_type": "execute_result"
    }
   ],
   "source": [
    "jax.devices()"
   ]
  },
  {
   "cell_type": "code",
   "execution_count": 4,
   "id": "f83b7b33-225e-49d1-a693-8be717a3fffc",
   "metadata": {},
   "outputs": [
    {
     "data": {
      "text/plain": [
       "DeviceArray([[1., 1., 1., 1., 1.],\n",
       "             [0., 0., 0., 0., 0.]], dtype=float32)"
      ]
     },
     "execution_count": 4,
     "metadata": {},
     "output_type": "execute_result"
    }
   ],
   "source": [
    "a.at[0].set(1)"
   ]
  },
  {
   "cell_type": "code",
   "execution_count": 5,
   "id": "09d95eda-06c5-430e-b429-64c21c8f72f7",
   "metadata": {},
   "outputs": [],
   "source": [
    "rng = jax.random.PRNGKey(42)"
   ]
  },
  {
   "cell_type": "code",
   "execution_count": 6,
   "id": "344b71ae-1247-4e42-88fd-6fa3a489e4e8",
   "metadata": {},
   "outputs": [
    {
     "name": "stdout",
     "output_type": "stream",
     "text": [
      "JAX - Random number 1: -0.18471177\n",
      "JAX - Random number 2: -0.18471177\n"
     ]
    }
   ],
   "source": [
    "jax_random_number_1 = jax.random.normal(rng)\n",
    "jax_random_number_2 = jax.random.normal(rng)\n",
    "print('JAX - Random number 1:', jax_random_number_1)\n",
    "print('JAX - Random number 2:', jax_random_number_2)"
   ]
  },
  {
   "cell_type": "code",
   "execution_count": 7,
   "id": "d63590ac-19bc-4f81-bf06-32dad9e689e9",
   "metadata": {},
   "outputs": [
    {
     "name": "stdout",
     "output_type": "stream",
     "text": [
      "JAX new - Random number 1: 0.107961535\n",
      "JAX new - Random number 2: -1.2226542\n"
     ]
    }
   ],
   "source": [
    "rng, subkey1, subkey2 = jax.random.split(rng, num=3)  # We create 3 new keys\n",
    "jax_random_number_1 = jax.random.normal(subkey1)\n",
    "jax_random_number_2 = jax.random.normal(subkey2)\n",
    "print('JAX new - Random number 1:', jax_random_number_1)\n",
    "print('JAX new - Random number 2:', jax_random_number_2)"
   ]
  },
  {
   "cell_type": "code",
   "execution_count": 8,
   "id": "7e6e414c-1e30-4a22-8b33-9ccb9a749eca",
   "metadata": {},
   "outputs": [
    {
     "name": "stdout",
     "output_type": "stream",
     "text": [
      "Input [0. 1. 2.]\n",
      "Output 12.666667\n"
     ]
    }
   ],
   "source": [
    "def simple_graph(x):\n",
    "    x = x + 2\n",
    "    x = x ** 2\n",
    "    x = x + 3\n",
    "    y = x.mean()\n",
    "    return y\n",
    "\n",
    "inp = jnp.arange(3, dtype=jnp.float32)\n",
    "print('Input', inp)\n",
    "print('Output', simple_graph(inp))"
   ]
  },
  {
   "cell_type": "code",
   "execution_count": 9,
   "id": "b868d4a2-9379-4410-90ff-bbd27b64a7ba",
   "metadata": {},
   "outputs": [
    {
     "data": {
      "text/plain": [
       "{ \u001b[34m\u001b[22m\u001b[1mlambda \u001b[39m\u001b[22m\u001b[22m; a\u001b[35m:f32[3]\u001b[39m. \u001b[34m\u001b[22m\u001b[1mlet\n",
       "    \u001b[39m\u001b[22m\u001b[22mb\u001b[35m:f32[3]\u001b[39m = add a 2.0\n",
       "    c\u001b[35m:f32[3]\u001b[39m = integer_pow[y=2] b\n",
       "    d\u001b[35m:f32[3]\u001b[39m = add c 3.0\n",
       "    e\u001b[35m:f32[]\u001b[39m = reduce_sum[axes=(0,)] d\n",
       "    f\u001b[35m:f32[]\u001b[39m = div e 3.0\n",
       "  \u001b[34m\u001b[22m\u001b[1min \u001b[39m\u001b[22m\u001b[22m(f,) }"
      ]
     },
     "execution_count": 9,
     "metadata": {},
     "output_type": "execute_result"
    }
   ],
   "source": [
    "jax.make_jaxpr(simple_graph)(inp)"
   ]
  },
  {
   "cell_type": "code",
   "execution_count": 10,
   "id": "c3311dbf-5de4-48bd-90a0-ed6543947474",
   "metadata": {},
   "outputs": [
    {
     "name": "stdout",
     "output_type": "stream",
     "text": [
      "Gradient [1.3333334 2.        2.6666667]\n"
     ]
    }
   ],
   "source": [
    "grad_function = jax.grad(simple_graph)\n",
    "gradients = grad_function(inp)\n",
    "print('Gradient', gradients)"
   ]
  },
  {
   "cell_type": "code",
   "execution_count": 11,
   "id": "6cd11950-7e91-4ed5-b04f-b7847fe3a53b",
   "metadata": {},
   "outputs": [
    {
     "data": {
      "text/plain": [
       "{ \u001b[34m\u001b[22m\u001b[1mlambda \u001b[39m\u001b[22m\u001b[22m; a\u001b[35m:f32[3]\u001b[39m. \u001b[34m\u001b[22m\u001b[1mlet\n",
       "    \u001b[39m\u001b[22m\u001b[22mb\u001b[35m:f32[3]\u001b[39m = add a 2.0\n",
       "    c\u001b[35m:f32[3]\u001b[39m = integer_pow[y=2] b\n",
       "    d\u001b[35m:f32[3]\u001b[39m = integer_pow[y=1] b\n",
       "    e\u001b[35m:f32[3]\u001b[39m = mul 2.0 d\n",
       "    f\u001b[35m:f32[3]\u001b[39m = add c 3.0\n",
       "    g\u001b[35m:f32[]\u001b[39m = reduce_sum[axes=(0,)] f\n",
       "    _\u001b[35m:f32[]\u001b[39m = div g 3.0\n",
       "    h\u001b[35m:f32[]\u001b[39m = div 1.0 3.0\n",
       "    i\u001b[35m:f32[3]\u001b[39m = broadcast_in_dim[broadcast_dimensions=() shape=(3,)] h\n",
       "    j\u001b[35m:f32[3]\u001b[39m = mul i e\n",
       "  \u001b[34m\u001b[22m\u001b[1min \u001b[39m\u001b[22m\u001b[22m(j,) }"
      ]
     },
     "execution_count": 11,
     "metadata": {},
     "output_type": "execute_result"
    }
   ],
   "source": [
    "jax.make_jaxpr(grad_function)(inp)"
   ]
  },
  {
   "cell_type": "code",
   "execution_count": 12,
   "id": "0d9e27c6-ee4d-4e88-a7c3-47122b10ff3f",
   "metadata": {},
   "outputs": [
    {
     "data": {
      "text/plain": [
       "(DeviceArray(12.666667, dtype=float32),\n",
       " DeviceArray([1.3333334, 2.       , 2.6666667], dtype=float32))"
      ]
     },
     "execution_count": 12,
     "metadata": {},
     "output_type": "execute_result"
    }
   ],
   "source": [
    "val_grad_function = jax.value_and_grad(simple_graph)\n",
    "val_grad_function(inp)"
   ]
  },
  {
   "cell_type": "code",
   "execution_count": null,
   "id": "ffa48094-76bb-4d41-8433-f3e8354e0957",
   "metadata": {},
   "outputs": [],
   "source": []
  }
 ],
 "metadata": {
  "kernelspec": {
   "display_name": "Poetry",
   "language": "python",
   "name": "poetry-kernel"
  },
  "language_info": {
   "codemirror_mode": {
    "name": "ipython",
    "version": 3
   },
   "file_extension": ".py",
   "mimetype": "text/x-python",
   "name": "python",
   "nbconvert_exporter": "python",
   "pygments_lexer": "ipython3",
   "version": "3.8.10"
  }
 },
 "nbformat": 4,
 "nbformat_minor": 5
}
